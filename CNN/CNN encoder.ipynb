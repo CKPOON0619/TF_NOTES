{
 "cells": [
  {
   "cell_type": "markdown",
   "metadata": {},
   "source": [
    "# Convolution Neural Net"
   ]
  },
  {
   "cell_type": "code",
   "execution_count": 2,
   "metadata": {
    "scrolled": true
   },
   "outputs": [
    {
     "name": "stdout",
     "output_type": "stream",
     "text": [
      "Extracting ./train-images-idx3-ubyte.gz\n",
      "Extracting ./train-labels-idx1-ubyte.gz\n",
      "Extracting ./t10k-images-idx3-ubyte.gz\n",
      "Extracting ./t10k-labels-idx1-ubyte.gz\n"
     ]
    }
   ],
   "source": [
    "import tensorflow as tf\n",
    "import numpy as np\n",
    "import os\n",
    "from tensorflow.examples.tutorials.mnist import input_data\n",
    "FLAGS = None\n",
    "mnist = input_data.read_data_sets('./', one_hot=True)"
   ]
  },
  {
   "cell_type": "code",
   "execution_count": 55,
   "metadata": {},
   "outputs": [
    {
     "name": "stdout",
     "output_type": "stream",
     "text": [
      "TensorBoard CMD:tensorboard --logdir=C:/Users/CK/Documents/tf_logs20181011-151422/\n"
     ]
    }
   ],
   "source": [
    "#Clearing all\n",
    "tf.reset_default_graph()\n",
    "#Opening new directory for tensorboard\n",
    "from datetime import datetime\n",
    "now = datetime.now()\n",
    "logdir = 'C:/Users/CK/Documents/tf_logs' + now.strftime(\"%Y%m%d-%H%M%S\") + \"/\"\n",
    "#To monitor training through tensorboard\n",
    "print('TensorBoard CMD:tensorboard --logdir='+logdir)"
   ]
  },
  {
   "cell_type": "code",
   "execution_count": 5,
   "metadata": {
    "collapsed": true
   },
   "outputs": [],
   "source": [
    "learning_rate = 0.01\n",
    "epochs = 20\n",
    "batch_size = 800\n",
    "inputs_ = tf.placeholder(tf.float32, (batch_size, 28, 28, 1), name='inputs')"
   ]
  },
  {
   "cell_type": "markdown",
   "metadata": {},
   "source": [
    "## Example 1"
   ]
  },
  {
   "cell_type": "code",
   "execution_count": 6,
   "metadata": {
    "collapsed": true
   },
   "outputs": [],
   "source": [
    "def featConstructor(inputs,varScope,batch_normalised=True,activation=tf.nn.sigmoid):\n",
    "    \n",
    "    with tf.variable_scope(varScope):\n",
    "        norm1=tf.layers.batch_normalization(inputs_,training=batch_normalised,axis=-1)\n",
    "        conv1 = tf.layers.separable_conv2d(\n",
    "                norm1,\n",
    "                filters=32,\n",
    "                kernel_size=(3,3),\n",
    "                strides=(1, 1),\n",
    "                activation=activation\n",
    "        )\n",
    "        # Now 28x28x32\n",
    "        maxpool1 = tf.layers.max_pooling2d(conv1, pool_size=(2,2), strides=(2,2), padding='same')\n",
    "        # Now 14x14x32\n",
    "        norm2=tf.layers.batch_normalization(maxpool1,training=batch_normalised,axis=-1)\n",
    "        conv2 = tf.layers.separable_conv2d(\n",
    "                inputs=norm2,\n",
    "                filters=16,\n",
    "                kernel_size=(3,3),\n",
    "                strides=(1, 1),\n",
    "                activation=activation\n",
    "        )\n",
    "        # Now 14x14x16\n",
    "        maxpool2 = tf.layers.max_pooling2d(conv2, pool_size=(2,2), strides=(2,2), padding='same')\n",
    "        # Now 7x7x16\n",
    "        norm3=tf.layers.batch_normalization(maxpool2,training=batch_normalised,axis=-1)\n",
    "        conv3= tf.layers.separable_conv2d(\n",
    "                inputs=norm3,\n",
    "                filters=8,\n",
    "                kernel_size=(3,3),\n",
    "                strides=(1, 1),\n",
    "                activation=activation\n",
    "        )\n",
    "        # Now 7x7x8\n",
    "        return tf.layers.max_pooling2d(conv3, pool_size=(2,2), strides=(2,2), padding='same',name='encoded') # Now 4x4x8\n"
   ]
  },
  {
   "cell_type": "markdown",
   "metadata": {},
   "source": [
    "#### Image Constructor"
   ]
  },
  {
   "cell_type": "code",
   "execution_count": 7,
   "metadata": {
    "collapsed": true
   },
   "outputs": [],
   "source": [
    "\n",
    "def imgConstructor(features,varScope,batch_normalised=True, activation=tf.nn.relu):\n",
    "    with tf.variable_scope(varScope):\n",
    "        # Originally 4x4x8\n",
    "        norm1=tf.layers.batch_normalization(\n",
    "            features,\n",
    "            training=batch_normalised,\n",
    "            axis=-1\n",
    "        )\n",
    "        upsample1 = tf.image.resize_images(norm1, size=(7,7), method=tf.image.ResizeMethod.NEAREST_NEIGHBOR)\n",
    "        # Now 7x7x8\n",
    "        conv4 = tf.layers.separable_conv2d(inputs=upsample1,\n",
    "                filters=16,\n",
    "                kernel_size=(3,3),\n",
    "                strides=(1, 1),\n",
    "                padding='same',\n",
    "                data_format='channels_last',\n",
    "                dilation_rate=(1, 1),\n",
    "                depth_multiplier=2,\n",
    "                activation=activation)\n",
    "        norm2=tf.layers.batch_normalization(\n",
    "            conv4,\n",
    "            training=batch_normalised,\n",
    "            axis=-1\n",
    "        )\n",
    "        # Now 7x7x16\n",
    "        upsample2 = tf.image.resize_images(norm2, size=(14,14), method=tf.image.ResizeMethod.NEAREST_NEIGHBOR)\n",
    "        # Now 14x14x32\n",
    "        conv5 = tf.layers.separable_conv2d(inputs=upsample2,\n",
    "                filters=32,\n",
    "                kernel_size=(3,3),\n",
    "                strides=(1, 1),\n",
    "                padding='same',\n",
    "                data_format='channels_last',\n",
    "                dilation_rate=(1, 1),\n",
    "                depth_multiplier=2,\n",
    "                activation=activation)\n",
    "        norm3=tf.layers.batch_normalization(\n",
    "            conv5,\n",
    "            training=batch_normalised,\n",
    "            axis=-1\n",
    "        )\n",
    "        # Now 14x14x32\n",
    "        upsample3 = tf.image.resize_images(norm3, size=(28,28), method=tf.image.ResizeMethod.NEAREST_NEIGHBOR)\n",
    "        # Now 28x28x64\n",
    "        conv6 = tf.layers.separable_conv2d(inputs=upsample3, \n",
    "                filters=64,\n",
    "                kernel_size=(3,3),\n",
    "                strides=(1, 1),\n",
    "                padding='same',\n",
    "                data_format='channels_last',\n",
    "                dilation_rate=(1, 1),\n",
    "                depth_multiplier=2,\n",
    "                activation=activation)\n",
    "        # Now 28x28x64\n",
    "        norm4=tf.layers.batch_normalization(\n",
    "            conv6,\n",
    "            training=batch_normalised,\n",
    "            axis=-1\n",
    "        )\n",
    "        logits = tf.layers.separable_conv2d(inputs=norm4, filters=1, kernel_size=(3,3), padding='same', activation=None)\n",
    "        #Now 28x28x1\n",
    "        # Pass logits through sigmoid to get reconstructed image\n",
    "        return logits,tf.nn.sigmoid(logits)"
   ]
  },
  {
   "cell_type": "code",
   "execution_count": 8,
   "metadata": {
    "collapsed": true
   },
   "outputs": [],
   "source": [
    "def encoder(inputs,featConstructor,imgConstructor,varScope):\n",
    "    with tf.variable_scope(varScope):\n",
    "        features=featConstructor(inputs,'features')\n",
    "        images_logits,images=imgConstructor(features,'images')\n",
    "        loss = tf.reduce_mean(tf.nn.sigmoid_cross_entropy_with_logits(labels=inputs, logits=images_logits))\n",
    "        with tf.control_dependencies(tf.get_collection(tf.GraphKeys.UPDATE_OPS)):\n",
    "            adam = tf.train.AdamOptimizer(learning_rate)\n",
    "            tf.summary.scalar('loss',loss)\n",
    "            tf.summary.image('Input_Images',inputs)\n",
    "            tf.summary.image('decoded_Images',images)\n",
    "            # Return the encoded code for embedding visualisation, the optimiser for executing training session.\n",
    "            return features,adam.minimize(loss,var_list= tf.get_collection(tf.GraphKeys.GLOBAL_VARIABLES,scope=varScope))"
   ]
  },
  {
   "cell_type": "code",
   "execution_count": null,
   "metadata": {},
   "outputs": [
    {
     "name": "stdout",
     "output_type": "stream",
     "text": [
      "INFO:tensorflow:Restoring parameters from ./CNN_encodernew.ckpt\n",
      "Running epochs 1, batch 1\n",
      "Running epochs 1, batch 2\n",
      "Running epochs 1, batch 3\n"
     ]
    }
   ],
   "source": [
    "#Defining saver\n",
    "feats,opt=encoder(inputs_,featConstructor,imgConstructor,'CNN_encoder')\n",
    "saver = tf.train.Saver()\n",
    "sess = tf.Session()\n",
    "modelname=\"CNN_encodernew\"\n",
    "\n",
    "'''\n",
    "if(os.path.isfile(modelname+\".ckpt.index\") ):\n",
    "    saver.restore(sess, \"./\"+modelname+\".ckpt\")\n",
    "else:\n",
    "    print('Error when loading model, applying initialisation instead.')\n",
    "    sess.run(tf.global_variables_initializer())\n",
    "    print('Model initialised.')\n",
    "'''   \n",
    "saver.restore(sess, \"./\"+modelname+\".ckpt\")\n",
    "merged=tf.summary.merge_all()\n",
    "writer = tf.summary.FileWriter(logdir, sess.graph)\n",
    "for e in range(epochs):\n",
    "    for ii in range(mnist.train.num_examples//batch_size):\n",
    "        batch = mnist.train.next_batch(batch_size)\n",
    "        imgs = batch[0].reshape((-1, 28, 28, 1))\n",
    "        summary,features, _ = sess.run([merged,feats, opt], feed_dict={inputs_: imgs})\n",
    "        print(\"Running epochs {}, batch {}\".format(e+1,ii+1))\n",
    "        writer.add_summary(summary, ii+batch_size*e)\n",
    "\n",
    "    # Add ops to save and restore all the variables.\n",
    "    saver.save(sess, \"./\"+modelname+\"new.ckpt\")"
   ]
  },
  {
   "cell_type": "code",
   "execution_count": null,
   "metadata": {
    "collapsed": true
   },
   "outputs": [],
   "source": [
    "print('TensorBoard CMD:tensorboard --logdir='+logdir)"
   ]
  },
  {
   "cell_type": "code",
   "execution_count": null,
   "metadata": {
    "collapsed": true
   },
   "outputs": [],
   "source": []
  }
 ],
 "metadata": {
  "kernelspec": {
   "display_name": "Python 3",
   "language": "python",
   "name": "python3"
  },
  "language_info": {
   "codemirror_mode": {
    "name": "ipython",
    "version": 3
   },
   "file_extension": ".py",
   "mimetype": "text/x-python",
   "name": "python",
   "nbconvert_exporter": "python",
   "pygments_lexer": "ipython3",
   "version": "3.6.3"
  }
 },
 "nbformat": 4,
 "nbformat_minor": 2
}
